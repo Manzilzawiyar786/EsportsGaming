{
 "cells": [
  {
   "cell_type": "code",
   "execution_count": null,
   "id": "7c66dec3-c51c-4356-a48a-1d75697554c8",
   "metadata": {},
   "outputs": [],
   "source": [
    "import pandas as pd\n",
    "from sklearn.model_selection import train_test_split\n",
    "from sklearn.preprocessing import StandardScaler, OneHotEncoder\n",
    "from sklearn.compose import ColumnTransformer\n",
    "from sklearn.pipeline import Pipeline\n",
    "from sklearn.impute import SimpleImputer\n",
    "from sklearn.linear_model import LogisticRegression\n",
    "from sklearn.tree import DecisionTreeClassifier\n",
    "from sklearn.neighbors import KNeighborsClassifier\n",
    "from sklearn.metrics import accuracy_score, f1_score, precision_score, log_loss\n",
    "import numpy as np"
   ]
  },
  {
   "cell_type": "code",
   "execution_count": null,
   "id": "6a91ebf9-51d8-40cd-aaca-27d0701d89e3",
   "metadata": {},
   "outputs": [],
   "source": [
    "# Load the dataset\n",
    "file_path = 'Gaming1.csv'  # Update this path if necessary\n",
    "data = pd.read_csv(file_path)\n",
    "\n",
    "# Display the first few rows and summary of the dataset to understand its structure\n",
    "data.head(), data.info(), data.describe()"
   ]
  },
  {
   "cell_type": "code",
   "execution_count": null,
   "id": "c2fe6dbe-0b47-48b5-b518-387f50f4a948",
   "metadata": {},
   "outputs": [],
   "source": [
    "# Define features and target variable\n",
    "X = data.drop(columns=['Game', 'TotalPlayers'])\n",
    "y = data['TotalPlayers']\n",
    "\n",
    "# To convert the problem to a classification problem, we will binarize the target variable\n",
    "# For simplicity, we'll classify the total number of players into 3 bins: low, medium, high\n",
    "y_binned = pd.qcut(y, q=3, labels=[0, 1, 2])"
   ]
  },
  {
   "cell_type": "code",
   "execution_count": null,
   "id": "44e605ec-fcae-433e-a60f-e7e40b873243",
   "metadata": {},
   "outputs": [],
   "source": [
    "# Define preprocessing for numeric columns (impute missing values and scale)\n",
    "numeric_features = ['ReleaseDate', 'TotalEarnings', 'OfflineEarnings', 'PercentOffline', 'TotalTournaments']\n",
    "numeric_transformer = Pipeline(steps=[\n",
    "    ('imputer', SimpleImputer(strategy='median')),\n",
    "    ('scaler', StandardScaler())\n",
    "])\n",
    "\n",
    "# Define preprocessing for categorical columns (one-hot encode)\n",
    "categorical_features = ['Genre']\n",
    "categorical_transformer = Pipeline(steps=[\n",
    "    ('imputer', SimpleImputer(strategy='constant', fill_value='missing')),\n",
    "    ('onehot', OneHotEncoder(handle_unknown='ignore'))\n",
    "])\n",
    "\n",
    "# Combine preprocessing steps\n",
    "preprocessor = ColumnTransformer(\n",
    "    transformers=[\n",
    "        ('num', numeric_transformer, numeric_features),\n",
    "        ('cat', categorical_transformer, categorical_features)\n",
    "    ])"
   ]
  },
  {
   "cell_type": "code",
   "execution_count": null,
   "id": "14a7c048-90f6-42f2-923f-d65909aee94b",
   "metadata": {},
   "outputs": [],
   "source": [
    "# Split the data into training and testing sets\n",
    "X_train, X_test, y_train, y_test = train_test_split(X, y_binned, test_size=0.2, random_state=42)"
   ]
  },
  {
   "cell_type": "code",
   "execution_count": null,
   "id": "8190b3f1-759f-4f69-840c-8f2043c89fb8",
   "metadata": {},
   "outputs": [],
   "source": [
    "# Define models\n",
    "models = {\n",
    "    'Logistic Regression': LogisticRegression(max_iter=1000),\n",
    "    'Decision Tree': DecisionTreeClassifier(),\n",
    "    'K-Nearest Neighbors': KNeighborsClassifier()\n",
    "}"
   ]
  },
  {
   "cell_type": "code",
   "execution_count": null,
   "id": "8b02d3fb-6054-4062-8f0a-81813560c9e4",
   "metadata": {},
   "outputs": [],
   "source": [
    "# Train and evaluate models\n",
    "results = {}\n",
    "for model_name, model in models.items():\n",
    "    clf = Pipeline(steps=[('preprocessor', preprocessor), ('classifier', model)])\n",
    "    clf.fit(X_train, y_train)\n",
    "    y_pred = clf.predict(X_test)\n",
    "    y_pred_proba = clf.predict_proba(X_test)\n",
    "    \n",
    "    accuracy = accuracy_score(y_test, y_pred)\n",
    "    f1 = f1_score(y_test, y_pred, average='weighted')\n",
    "    precision = precision_score(y_test, y_pred, average='weighted')\n",
    "    loss = log_loss(y_test, y_pred_proba)\n",
    "    \n",
    "    results[model_name] = {\n",
    "        'Accuracy': accuracy,\n",
    "        'F1 Score': f1,\n",
    "        'Precision': precision,\n",
    "        'Log Loss': loss\n",
    "    }"
   ]
  },
  {
   "cell_type": "code",
   "execution_count": null,
   "id": "97e571fa-d2c6-4fa5-a6aa-a48bb3a2e895",
   "metadata": {},
   "outputs": [],
   "source": [
    "# Display the results\n",
    "results"
   ]
  },
  {
   "cell_type": "code",
   "execution_count": null,
   "id": "12b32094-94bc-4852-916e-66e4b3a9e852",
   "metadata": {},
   "outputs": [],
   "source": [
    "import matplotlib.pyplot as plt\n",
    "\n",
    "# Function to plot the evaluation metrics\n",
    "def plot_results(results):\n",
    "    metrics = ['Accuracy', 'F1 Score', 'Precision', 'Log Loss']\n",
    "    models = list(results.keys())\n",
    "\n",
    "    fig, axes = plt.subplots(2, 2, figsize=(14, 10))\n",
    "\n",
    "    for i, metric in enumerate(metrics):\n",
    "        values = [results[model][metric] for model in models]\n",
    "        ax = axes[i//2, i%2]\n",
    "        ax.bar(models, values, color=['blue', 'green', 'orange'])\n",
    "        ax.set_title(metric)\n",
    "        ax.set_ylabel(metric)\n",
    "        ax.set_ylim(0, 1 if metric != 'Log Loss' else max(values) * 1.1)\n",
    "        for index, value in enumerate(values):\n",
    "            ax.text(index, value, f'{value:.2f}', ha='center', va='bottom')\n",
    "\n",
    "    plt.tight_layout()\n",
    "    plt.show()\n",
    "\n",
    "# Call the function to plot the results\n",
    "plot_results(results)"
   ]
  },
  {
   "cell_type": "code",
   "execution_count": null,
   "id": "955d3865-b50d-4673-a9f1-26807b8b51d9",
   "metadata": {},
   "outputs": [],
   "source": [
    "import seaborn as sns\n",
    "from sklearn.metrics import confusion_matrix\n",
    "\n",
    "# Function to plot confusion matrices\n",
    "def plot_confusion_matrix(y_test, y_pred, model_name):\n",
    "    cm = confusion_matrix(y_test, y_pred)\n",
    "    plt.figure(figsize=(8, 6))\n",
    "    sns.heatmap(cm, annot=True, fmt='d', cmap='Blues', xticklabels=['Low', 'Medium', 'High'], yticklabels=['Low', 'Medium', 'High'])\n",
    "    plt.xlabel('Predicted')\n",
    "    plt.ylabel('True')\n",
    "    plt.title(f'Confusion Matrix - {model_name}')\n",
    "    plt.show()\n",
    "\n",
    "# Plot confusion matrices for each model\n",
    "for model_name, model in models.items():\n",
    "    clf = Pipeline(steps=[('preprocessor', preprocessor), ('classifier', model)])\n",
    "    clf.fit(X_train, y_train)\n",
    "    y_pred = clf.predict(X_test)\n",
    "    plot_confusion_matrix(y_test, y_pred, model_name)"
   ]
  },
  {
   "cell_type": "code",
   "execution_count": null,
   "id": "fb88eb5a-7fbd-4a5b-8f20-08507c0f1d1b",
   "metadata": {},
   "outputs": [],
   "source": [
    "# Function to plot comparative performance\n",
    "def plot_comparative_performance(results):\n",
    "    metrics = ['Accuracy', 'F1 Score', 'Precision', 'Log Loss']\n",
    "    models = list(results.keys())\n",
    "\n",
    "    data = []\n",
    "    for metric in metrics:\n",
    "        for model in models:\n",
    "            data.append([model, metric, results[model][metric]])\n",
    "\n",
    "    df = pd.DataFrame(data, columns=['Model', 'Metric', 'Value'])\n",
    "\n",
    "    plt.figure(figsize=(12, 8))\n",
    "    sns.barplot(x='Metric', y='Value', hue='Model', data=df, palette='Set1')\n",
    "    plt.title('Comparative Performance of Models')\n",
    "    plt.ylim(0, 1 if 'Log Loss' not in df['Metric'].values else None)\n",
    "    for index, row in df.iterrows():\n",
    "        plt.text(index % 4, row.Value, f'{row.Value:.2f}', ha='center', va='bottom')\n",
    "    plt.show()\n",
    "\n",
    "# Call the function to plot comparative performance\n",
    "plot_comparative_performance(results)"
   ]
  },
  {
   "cell_type": "code",
   "execution_count": null,
   "id": "e71f4639-534f-4296-b0b7-cf519a51f613",
   "metadata": {},
   "outputs": [],
   "source": [
    "\n",
    "\n"
   ]
  },
  {
   "cell_type": "code",
   "execution_count": null,
   "id": "40008f3f-de9c-408d-aaa3-8990fd1383a0",
   "metadata": {},
   "outputs": [],
   "source": []
  }
 ],
 "metadata": {
  "kernelspec": {
   "display_name": "Python 3 (ipykernel)",
   "language": "python",
   "name": "python3"
  },
  "language_info": {
   "codemirror_mode": {
    "name": "ipython",
    "version": 3
   },
   "file_extension": ".py",
   "mimetype": "text/x-python",
   "name": "python",
   "nbconvert_exporter": "python",
   "pygments_lexer": "ipython3",
   "version": "3.12.1"
  }
 },
 "nbformat": 4,
 "nbformat_minor": 5
}
